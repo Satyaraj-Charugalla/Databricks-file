{
 "cells": [
  {
   "cell_type": "code",
   "execution_count": 1,
   "id": "40079630",
   "metadata": {},
   "outputs": [
    {
     "name": "stdout",
     "output_type": "stream",
     "text": [
      "Electronics will be the consequences of citizens ability to understand their leader.\n"
     ]
    }
   ],
   "source": [
    "#old method\n",
    "print('Electronics will be the consequences of citizens ability to understand their %s.'%'leader')"
   ]
  },
  {
   "cell_type": "code",
   "execution_count": 2,
   "id": "ce0aec08",
   "metadata": {},
   "outputs": [
    {
     "name": "stdout",
     "output_type": "stream",
     "text": [
      "I am going to take vaccine fro the safety from covid\n"
     ]
    }
   ],
   "source": [
    "print('I am going to take %s fro the safety from %s'%('vaccine','covid'))"
   ]
  },
  {
   "cell_type": "code",
   "execution_count": 3,
   "id": "8c9ae1d6",
   "metadata": {},
   "outputs": [
    {
     "name": "stdout",
     "output_type": "stream",
     "text": [
      "I am going to inject some text here an read more about it\n"
     ]
    }
   ],
   "source": [
    "x='some'\n",
    "y='more'\n",
    "\n",
    "print('I am going to inject %s text here an read %s about it'%(x,y))"
   ]
  },
  {
   "cell_type": "code",
   "execution_count": 6,
   "id": "d7004b8d",
   "metadata": {},
   "outputs": [
    {
     "name": "stdout",
     "output_type": "stream",
     "text": [
      "I am going to inject Pineapple text here and make 69 kg juice from it\n"
     ]
    }
   ],
   "source": [
    "k=69.69\n",
    "g='Pineapple'\n",
    "\n",
    "print('I am going to inject %s text here and make %d kg juice from it'%(g,k))"
   ]
  },
  {
   "cell_type": "code",
   "execution_count": 10,
   "id": "5104ca85",
   "metadata": {},
   "outputs": [
    {
     "name": "stdout",
     "output_type": "stream",
     "text": [
      "Number :          13.355\n",
      "Number :        1234.732\n",
      "Number :  1234565432.534\n"
     ]
    }
   ],
   "source": [
    "f=13.3545347\n",
    "e=1234.7324563\n",
    "d=1234565432.534\n",
    "\n",
    "print('Number : %15.3f'%(f))\n",
    "print('Number : %15.3f'%(e))\n",
    "print('Number : %15.3f'%(d))"
   ]
  },
  {
   "cell_type": "markdown",
   "id": "de911ac7",
   "metadata": {},
   "source": [
    "### Functions"
   ]
  },
  {
   "cell_type": "code",
   "execution_count": 11,
   "id": "ec456715",
   "metadata": {},
   "outputs": [],
   "source": [
    "import pandas as pan"
   ]
  },
  {
   "cell_type": "code",
   "execution_count": 12,
   "id": "d3c0e2f1",
   "metadata": {},
   "outputs": [],
   "source": [
    "def lesser_of_two(a,b):\n",
    "    if a%2==0 and b%2==0:\n",
    "        return min(a,b)\n",
    "    else:\n",
    "        return max(a,b)"
   ]
  },
  {
   "cell_type": "code",
   "execution_count": 15,
   "id": "ba478728",
   "metadata": {},
   "outputs": [
    {
     "data": {
      "text/plain": [
       "55"
      ]
     },
     "execution_count": 15,
     "metadata": {},
     "output_type": "execute_result"
    }
   ],
   "source": [
    "lesser_of_two(55,50)"
   ]
  },
  {
   "cell_type": "code",
   "execution_count": 13,
   "id": "08871b12",
   "metadata": {},
   "outputs": [],
   "source": [
    "def add_num (num1,num2):\n",
    "    return num1+num2"
   ]
  },
  {
   "cell_type": "code",
   "execution_count": 16,
   "id": "12b326bd",
   "metadata": {},
   "outputs": [
    {
     "data": {
      "text/plain": [
       "80"
      ]
     },
     "execution_count": 16,
     "metadata": {},
     "output_type": "execute_result"
    }
   ],
   "source": [
    "add_num(25,55)"
   ]
  },
  {
   "cell_type": "code",
   "execution_count": 14,
   "id": "5e499f82",
   "metadata": {},
   "outputs": [],
   "source": [
    "def abc(a,b):\n",
    "    if a+b==50:\n",
    "        return True\n",
    "    else:\n",
    "        return False\n",
    "    "
   ]
  },
  {
   "cell_type": "code",
   "execution_count": 17,
   "id": "1055901c",
   "metadata": {},
   "outputs": [
    {
     "data": {
      "text/plain": [
       "False"
      ]
     },
     "execution_count": 17,
     "metadata": {},
     "output_type": "execute_result"
    }
   ],
   "source": [
    "abc(15,45)"
   ]
  },
  {
   "cell_type": "code",
   "execution_count": 22,
   "id": "888bcfd3",
   "metadata": {},
   "outputs": [],
   "source": [
    "def reversed_order(s):\n",
    "    w = s.split()\n",
    "    w = list(reversed(w))\n",
    "    print(\" \".join(w))"
   ]
  },
  {
   "cell_type": "code",
   "execution_count": 23,
   "id": "99a862e7",
   "metadata": {},
   "outputs": [
    {
     "name": "stdout",
     "output_type": "stream",
     "text": [
      "Dog Lazy The Over Jumps Fox Brown Quick The\n"
     ]
    }
   ],
   "source": [
    "reversed_order('The Quick Brown Fox Jumps Over The Lazy Dog')"
   ]
  },
  {
   "cell_type": "markdown",
   "id": "dd55e8f4",
   "metadata": {},
   "source": [
    "### Arguments(args)"
   ]
  },
  {
   "cell_type": "code",
   "execution_count": 24,
   "id": "b3a176d6",
   "metadata": {},
   "outputs": [],
   "source": [
    "def myfun(*args):\n",
    "    return sum(args)"
   ]
  },
  {
   "cell_type": "code",
   "execution_count": 25,
   "id": "6beb75f0",
   "metadata": {},
   "outputs": [
    {
     "data": {
      "text/plain": [
       "42673"
      ]
     },
     "execution_count": 25,
     "metadata": {},
     "output_type": "execute_result"
    }
   ],
   "source": [
    "myfun(37645,213,3536,1257,22)"
   ]
  },
  {
   "cell_type": "markdown",
   "id": "8c34e844",
   "metadata": {},
   "source": [
    "### Keyword Arguments(kwargs)"
   ]
  },
  {
   "cell_type": "code",
   "execution_count": 28,
   "id": "6b778a29",
   "metadata": {},
   "outputs": [],
   "source": [
    "def myself(**kwargs):\n",
    "    for key,value in kwargs.items():\n",
    "        print('My {} is {}.'.format(key,value))"
   ]
  },
  {
   "cell_type": "code",
   "execution_count": 29,
   "id": "a96eca8e",
   "metadata": {},
   "outputs": [
    {
     "name": "stdout",
     "output_type": "stream",
     "text": [
      "My Firstname is Satyaraj.\n",
      "My Lastname is Ch.\n"
     ]
    }
   ],
   "source": [
    "myself(Firstname='Satyaraj',Lastname='Ch')"
   ]
  },
  {
   "cell_type": "markdown",
   "id": "a0b15d28",
   "metadata": {},
   "source": [
    "### def args and kwargs"
   ]
  },
  {
   "cell_type": "code",
   "execution_count": 31,
   "id": "97f3532e",
   "metadata": {},
   "outputs": [],
   "source": [
    "def myself1(*args,**kwargs):\n",
    "    if 'fruit' and 'juice' in kwargs:\n",
    "        print(f'I like {\" \".join(args)} and my favt fruit is {kwargs[\"fruit\"]} and {kwargs[\"juice\"]}.')"
   ]
  },
  {
   "cell_type": "code",
   "execution_count": 32,
   "id": "c0335110",
   "metadata": {},
   "outputs": [
    {
     "name": "stdout",
     "output_type": "stream",
     "text": [
      "I like Carrot Banana and my favt fruit is Pineapple and apple.\n"
     ]
    }
   ],
   "source": [
    "myself1('Carrot','Banana',fruit='Pineapple',juice='apple')"
   ]
  },
  {
   "cell_type": "code",
   "execution_count": 2,
   "id": "7ac5f44b",
   "metadata": {},
   "outputs": [
    {
     "name": "stdout",
     "output_type": "stream",
     "text": [
      "[1, 16, 81, 256, 625, 1296, 2401, 4096, 6561]\n"
     ]
    }
   ],
   "source": [
    "lst= [j*j for j in [i*i for i in range(1,10)]]\n",
    "print(lst)"
   ]
  },
  {
   "cell_type": "code",
   "execution_count": 3,
   "id": "87974d3a",
   "metadata": {},
   "outputs": [],
   "source": [
    "def cubee(num):\n",
    "    return num**3"
   ]
  },
  {
   "cell_type": "code",
   "execution_count": 4,
   "id": "854812af-ac7a-488d-950e-f0b758cec784",
   "metadata": {},
   "outputs": [
    {
     "data": {
      "text/plain": [
       "64"
      ]
     },
     "execution_count": 4,
     "metadata": {},
     "output_type": "execute_result"
    }
   ],
   "source": [
    "cubee(4)"
   ]
  },
  {
   "cell_type": "code",
   "execution_count": 16,
   "id": "d6df2fff-230d-43bb-8baa-d38b53d25dda",
   "metadata": {},
   "outputs": [],
   "source": [
    "\n",
    "def add(num):\n",
    "    for i in num:\n",
    "        sum=0\n",
    "        sum=sum+i\n",
    "    print(sum)"
   ]
  },
  {
   "cell_type": "code",
   "execution_count": 17,
   "id": "d2cd8788-c064-4e4f-884c-2231e0f76f9e",
   "metadata": {
    "tags": []
   },
   "outputs": [
    {
     "name": "stdout",
     "output_type": "stream",
     "text": [
      "10\n"
     ]
    }
   ],
   "source": [
    "num=[1,2,3,4,5,6,7,8,9,10]\n",
    "add(num)"
   ]
  },
  {
   "cell_type": "code",
   "execution_count": 18,
   "id": "ccbbccfb-348b-4c55-a7cb-dceb59bedb2d",
   "metadata": {},
   "outputs": [],
   "source": [
    "def check_even(num):\n",
    "    return num%2==0"
   ]
  },
  {
   "cell_type": "code",
   "execution_count": 21,
   "id": "bc2dc295-d32c-4091-b6fb-95e8b1201d19",
   "metadata": {},
   "outputs": [
    {
     "data": {
      "text/plain": [
       "[234, 22, 32, 50, 12, 2, 42]"
      ]
     },
     "execution_count": 21,
     "metadata": {},
     "output_type": "execute_result"
    }
   ],
   "source": [
    "nums=[234,22,32,49,50,33,12,2,42]\n",
    "list(filter(check_even,nums))"
   ]
  },
  {
   "cell_type": "code",
   "execution_count": 22,
   "id": "ae11924a-1da6-4e67-b753-212090af4134",
   "metadata": {},
   "outputs": [],
   "source": [
    "def squaring(num):\n",
    "    return num**2"
   ]
  },
  {
   "cell_type": "code",
   "execution_count": 23,
   "id": "80276fce-0196-4b8a-b6ba-a9405b5ef7ce",
   "metadata": {},
   "outputs": [],
   "source": [
    "square = lambda num : num**2"
   ]
  },
  {
   "cell_type": "code",
   "execution_count": 25,
   "id": "fafacdb6-4700-4a21-afc4-c213a5f88285",
   "metadata": {},
   "outputs": [
    {
     "data": {
      "text/plain": [
       "225"
      ]
     },
     "execution_count": 25,
     "metadata": {},
     "output_type": "execute_result"
    }
   ],
   "source": [
    "squaring(15)"
   ]
  },
  {
   "cell_type": "code",
   "execution_count": 26,
   "id": "dc59ca43-cc69-4070-9cc6-58476213a8ac",
   "metadata": {},
   "outputs": [],
   "source": [
    "#object creation\n",
    "\n",
    "class sample:   #main\n",
    "    pass"
   ]
  },
  {
   "cell_type": "code",
   "execution_count": 27,
   "id": "93cfac2f-b7f7-4503-9f5d-29ba71303199",
   "metadata": {},
   "outputs": [
    {
     "data": {
      "text/plain": [
       "__main__.sample"
      ]
     },
     "execution_count": 27,
     "metadata": {},
     "output_type": "execute_result"
    }
   ],
   "source": [
    "sample\n",
    "\n",
    "\n",
    "#new object.....core sample...."
   ]
  },
  {
   "cell_type": "code",
   "execution_count": 28,
   "id": "e688cbe2-c7d3-4d47-9625-c9850df32591",
   "metadata": {},
   "outputs": [
    {
     "data": {
      "text/plain": [
       "type"
      ]
     },
     "execution_count": 28,
     "metadata": {},
     "output_type": "execute_result"
    }
   ],
   "source": [
    "type(sample)"
   ]
  },
  {
   "cell_type": "code",
   "execution_count": null,
   "id": "696911ef-d876-4bf5-bdbc-e721a47b2f8b",
   "metadata": {},
   "outputs": [],
   "source": []
  },
  {
   "cell_type": "code",
   "execution_count": 29,
   "id": "32b4f675-f6c6-44df-a865-62c79f0dad92",
   "metadata": {},
   "outputs": [],
   "source": [
    "class dog:\n",
    "    species='mamal'\n",
    "    \n",
    "    def __init__(self,breed,name):\n",
    "        self.breed=breed\n",
    "        self.name=name"
   ]
  },
  {
   "cell_type": "code",
   "execution_count": 30,
   "id": "d3aac4b7-685b-4ede-afdd-cd3ec4f6b737",
   "metadata": {},
   "outputs": [
    {
     "data": {
      "text/plain": [
       "__main__.dog"
      ]
     },
     "execution_count": 30,
     "metadata": {},
     "output_type": "execute_result"
    }
   ],
   "source": [
    "dog"
   ]
  },
  {
   "cell_type": "code",
   "execution_count": 31,
   "id": "89761c05-2fb8-49e3-896c-fb70c6a65f33",
   "metadata": {},
   "outputs": [],
   "source": [
    "sam=dog('Lab','Doge')"
   ]
  },
  {
   "cell_type": "code",
   "execution_count": 33,
   "id": "f846241f-8564-4f60-ace2-3fb1043f9c77",
   "metadata": {},
   "outputs": [
    {
     "data": {
      "text/plain": [
       "'Doge'"
      ]
     },
     "execution_count": 33,
     "metadata": {},
     "output_type": "execute_result"
    }
   ],
   "source": [
    "sam.name"
   ]
  },
  {
   "cell_type": "code",
   "execution_count": 36,
   "id": "ca1177bc-2625-4354-a990-f9dc287bf4ba",
   "metadata": {},
   "outputs": [],
   "source": [
    "class Satya:\n",
    "    gender='male'\n",
    "    \n",
    "    def __init__(self,name,age):\n",
    "        self.age=age\n",
    "        self.name=name"
   ]
  },
  {
   "cell_type": "code",
   "execution_count": 37,
   "id": "3e66646a-564e-4e62-8fd3-1bc40c791022",
   "metadata": {},
   "outputs": [],
   "source": [
    "ch=Satya('Raj',22)"
   ]
  },
  {
   "cell_type": "code",
   "execution_count": 38,
   "id": "fc76a8d3-bfa5-4f16-8d5c-065da858bed5",
   "metadata": {},
   "outputs": [
    {
     "data": {
      "text/plain": [
       "'Raj'"
      ]
     },
     "execution_count": 38,
     "metadata": {},
     "output_type": "execute_result"
    }
   ],
   "source": [
    "ch.name"
   ]
  },
  {
   "cell_type": "code",
   "execution_count": 39,
   "id": "3042d8fd-311e-4746-ac9d-cf4a78ccfa13",
   "metadata": {},
   "outputs": [],
   "source": [
    "import pandas as pd"
   ]
  },
  {
   "cell_type": "code",
   "execution_count": 53,
   "id": "1d4ccc3f-b70e-4abd-b17c-493472faf048",
   "metadata": {},
   "outputs": [],
   "source": [
    "class circle:\n",
    "    pi=3.14\n",
    "    def __init__(self,radius=3):\n",
    "        self.radius=radius\n",
    "        self.area=pi*radius*radius\n",
    "        self.cicum=2*pi*radius\n",
    "        \n",
    "    def set_rad(self,rad2):\n",
    "        self.radius=rad2\n",
    "        self.area=pi*rad2*rad2"
   ]
  },
  {
   "cell_type": "code",
   "execution_count": 54,
   "id": "462ef84e-a5e9-44e4-92ed-bdf251e6de9a",
   "metadata": {
    "collapsed": true,
    "jupyter": {
     "outputs_hidden": true
    },
    "tags": []
   },
   "outputs": [
    {
     "ename": "NameError",
     "evalue": "name 'pi' is not defined",
     "output_type": "error",
     "traceback": [
      "\u001b[1;31m---------------------------------------------------------------------------\u001b[0m",
      "\u001b[1;31mNameError\u001b[0m                                 Traceback (most recent call last)",
      "\u001b[1;32m<ipython-input-54-ca66ea7280a2>\u001b[0m in \u001b[0;36m<module>\u001b[1;34m\u001b[0m\n\u001b[1;32m----> 1\u001b[1;33m \u001b[0mc\u001b[0m\u001b[1;33m=\u001b[0m\u001b[0mcircle\u001b[0m\u001b[1;33m(\u001b[0m\u001b[1;33m)\u001b[0m\u001b[1;33m\u001b[0m\u001b[1;33m\u001b[0m\u001b[0m\n\u001b[0m",
      "\u001b[1;32m<ipython-input-53-6c10d3c93f5f>\u001b[0m in \u001b[0;36m__init__\u001b[1;34m(self, radius)\u001b[0m\n\u001b[0;32m      3\u001b[0m     \u001b[1;32mdef\u001b[0m \u001b[0m__init__\u001b[0m\u001b[1;33m(\u001b[0m\u001b[0mself\u001b[0m\u001b[1;33m,\u001b[0m\u001b[0mradius\u001b[0m\u001b[1;33m=\u001b[0m\u001b[1;36m3\u001b[0m\u001b[1;33m)\u001b[0m\u001b[1;33m:\u001b[0m\u001b[1;33m\u001b[0m\u001b[1;33m\u001b[0m\u001b[0m\n\u001b[0;32m      4\u001b[0m         \u001b[0mself\u001b[0m\u001b[1;33m.\u001b[0m\u001b[0mradius\u001b[0m\u001b[1;33m=\u001b[0m\u001b[0mradius\u001b[0m\u001b[1;33m\u001b[0m\u001b[1;33m\u001b[0m\u001b[0m\n\u001b[1;32m----> 5\u001b[1;33m         \u001b[0mself\u001b[0m\u001b[1;33m.\u001b[0m\u001b[0marea\u001b[0m\u001b[1;33m=\u001b[0m\u001b[0mpi\u001b[0m\u001b[1;33m*\u001b[0m\u001b[0mradius\u001b[0m\u001b[1;33m*\u001b[0m\u001b[0mradius\u001b[0m\u001b[1;33m\u001b[0m\u001b[1;33m\u001b[0m\u001b[0m\n\u001b[0m\u001b[0;32m      6\u001b[0m         \u001b[0mself\u001b[0m\u001b[1;33m.\u001b[0m\u001b[0mcicum\u001b[0m\u001b[1;33m=\u001b[0m\u001b[1;36m2\u001b[0m\u001b[1;33m*\u001b[0m\u001b[0mpi\u001b[0m\u001b[1;33m*\u001b[0m\u001b[0mradius\u001b[0m\u001b[1;33m\u001b[0m\u001b[1;33m\u001b[0m\u001b[0m\n\u001b[0;32m      7\u001b[0m \u001b[1;33m\u001b[0m\u001b[0m\n",
      "\u001b[1;31mNameError\u001b[0m: name 'pi' is not defined"
     ]
    }
   ],
   "source": [
    "c=circle()"
   ]
  },
  {
   "cell_type": "code",
   "execution_count": 52,
   "id": "ec568366-284a-4095-9a0a-4a9dff64b95b",
   "metadata": {},
   "outputs": [
    {
     "data": {
      "text/plain": [
       "18.84"
      ]
     },
     "execution_count": 52,
     "metadata": {},
     "output_type": "execute_result"
    }
   ],
   "source": [
    "c.cicum"
   ]
  },
  {
   "cell_type": "code",
   "execution_count": 55,
   "id": "275bb358-88d9-43d7-ac99-3dc4f2ab7025",
   "metadata": {},
   "outputs": [
    {
     "name": "stdout",
     "output_type": "stream",
     "text": [
      "The Zen of Python, by Tim Peters\n",
      "\n",
      "Beautiful is better than ugly.\n",
      "Explicit is better than implicit.\n",
      "Simple is better than complex.\n",
      "Complex is better than complicated.\n",
      "Flat is better than nested.\n",
      "Sparse is better than dense.\n",
      "Readability counts.\n",
      "Special cases aren't special enough to break the rules.\n",
      "Although practicality beats purity.\n",
      "Errors should never pass silently.\n",
      "Unless explicitly silenced.\n",
      "In the face of ambiguity, refuse the temptation to guess.\n",
      "There should be one-- and preferably only one --obvious way to do it.\n",
      "Although that way may not be obvious at first unless you're Dutch.\n",
      "Now is better than never.\n",
      "Although never is often better than *right* now.\n",
      "If the implementation is hard to explain, it's a bad idea.\n",
      "If the implementation is easy to explain, it may be a good idea.\n",
      "Namespaces are one honking great idea -- let's do more of those!\n"
     ]
    }
   ],
   "source": [
    "import this"
   ]
  },
  {
   "cell_type": "code",
   "execution_count": null,
   "id": "f30bfd95-93d6-4b99-a954-8cff6a6b8b79",
   "metadata": {},
   "outputs": [],
   "source": []
  },
  {
   "cell_type": "code",
   "execution_count": 62,
   "id": "7eafbf78-5021-4cd8-a655-e6a8e2743155",
   "metadata": {},
   "outputs": [],
   "source": [
    "class animal:\n",
    "    def __init__(self):\n",
    "        print('Animal Created!')\n",
    "    \n",
    "    def whoami(self):\n",
    "        print('Animal')\n",
    "    \n",
    "    def eat(self):\n",
    "        print('Eats')\n",
    "        \n",
    "class dog(animal):\n",
    "    def __init__(self):\n",
    "        animal.__init__(self)\n",
    "        print('Dog class created!')\n",
    "    \n",
    "    def whoami(self):\n",
    "        print('Dog')\n",
    "        \n",
    "    def bark(self):\n",
    "        print('WOOF')\n"
   ]
  },
  {
   "cell_type": "code",
   "execution_count": 59,
   "id": "8cc2d492-ddf7-4527-9a62-29ed17ca6433",
   "metadata": {},
   "outputs": [
    {
     "name": "stdout",
     "output_type": "stream",
     "text": [
      "Animal Created!\n"
     ]
    }
   ],
   "source": [
    "a=animal()"
   ]
  },
  {
   "cell_type": "code",
   "execution_count": 63,
   "id": "1c534927-7e28-4630-9a1a-7d4ac5a19701",
   "metadata": {},
   "outputs": [
    {
     "name": "stdout",
     "output_type": "stream",
     "text": [
      "Animal Created!\n",
      "Dog class created!\n"
     ]
    }
   ],
   "source": [
    "lab= dog()"
   ]
  },
  {
   "cell_type": "code",
   "execution_count": 65,
   "id": "1f9b58ab-cbe4-4ff1-bff4-0514487cc4ba",
   "metadata": {},
   "outputs": [
    {
     "name": "stdout",
     "output_type": "stream",
     "text": [
      "Eats\n"
     ]
    }
   ],
   "source": [
    "lab.eat()"
   ]
  },
  {
   "cell_type": "code",
   "execution_count": 66,
   "id": "9d96d2b6-2679-4ec7-a757-0a0ccef9ff43",
   "metadata": {},
   "outputs": [
    {
     "name": "stdout",
     "output_type": "stream",
     "text": [
      "WOOF\n"
     ]
    }
   ],
   "source": [
    "lab.bark()"
   ]
  },
  {
   "cell_type": "code",
   "execution_count": null,
   "id": "a83714b1-fb1b-40b2-92dc-eec763132426",
   "metadata": {},
   "outputs": [],
   "source": []
  },
  {
   "cell_type": "code",
   "execution_count": null,
   "id": "ecba6814-d99e-4236-9dbc-386f04bb4dac",
   "metadata": {},
   "outputs": [],
   "source": []
  },
  {
   "cell_type": "code",
   "execution_count": null,
   "id": "59a9d1ee-1b2a-48a6-8adf-641e65d4538f",
   "metadata": {},
   "outputs": [],
   "source": []
  },
  {
   "cell_type": "code",
   "execution_count": null,
   "id": "453cfe83-0467-47e9-b8ac-6b43ccbeacc9",
   "metadata": {},
   "outputs": [],
   "source": []
  },
  {
   "cell_type": "code",
   "execution_count": null,
   "id": "fba456bc-faf1-4bf8-9587-ab57ad870f21",
   "metadata": {},
   "outputs": [],
   "source": []
  }
 ],
 "metadata": {
  "kernelspec": {
   "display_name": "Python 3",
   "language": "python",
   "name": "python3"
  },
  "language_info": {
   "codemirror_mode": {
    "name": "ipython",
    "version": 3
   },
   "file_extension": ".py",
   "mimetype": "text/x-python",
   "name": "python",
   "nbconvert_exporter": "python",
   "pygments_lexer": "ipython3",
   "version": "3.8.8"
  }
 },
 "nbformat": 4,
 "nbformat_minor": 5
}
